{
 "cells": [
  {
   "cell_type": "code",
   "execution_count": 30,
   "metadata": {},
   "outputs": [
    {
     "name": "stdout",
     "output_type": "stream",
     "text": [
      "given list [12, 11, 13, 4, 5, 7, 9]\n",
      "merging [11, 13]\n",
      "merging [11, 12, 13]\n",
      "merging [4, 5]\n",
      "merging [7, 9]\n",
      "merging [4, 5, 7, 9]\n",
      "merging [4, 5, 7, 9, 11, 12, 13]\n",
      "sorted list [4, 5, 7, 9, 11, 12, 13]\n"
     ]
    }
   ],
   "source": [
    "def mergeSort(lst):\n",
    "    if len(lst) > 1:\n",
    "        m = len(lst)//2\n",
    "        \n",
    "        lefthalf = lst[:m]\n",
    "        righthalf = lst[m:]\n",
    "        \n",
    "        \n",
    "        mergeSort(lefthalf)\n",
    "        mergeSort(righthalf)\n",
    "        \n",
    "        i = 0\n",
    "        j = 0\n",
    "        k = 0\n",
    "    \n",
    "        while i < len(lefthalf) and j < len(righthalf):\n",
    "\n",
    "            if lefthalf[i] < righthalf[j]:\n",
    "                lst[k] = lefthalf[i]\n",
    "                i += 1\n",
    "            else :\n",
    "                lst[k] = righthalf[j]\n",
    "                j += 1\n",
    "            k += 1\n",
    "\n",
    "        while i <  len(lefthalf):\n",
    "            lst[k] = lefthalf[i]\n",
    "            i += 1\n",
    "            k += 1\n",
    "        while j <  len(righthalf):\n",
    "            lst[k] = righthalf[j]\n",
    "            j += 1\n",
    "            k += 1\n",
    "        print(\"merging\", lst)\n",
    "\n",
    "\n",
    "    \n",
    "#driver Code\n",
    "\n",
    "lst = [12, 11, 13, 4, 5, 7, 9]\n",
    "print(\"given list\", lst)\n",
    "mergeSort(lst)\n",
    "print(\"sorted list\", lst)\n",
    "\n",
    "    "
   ]
  },
  {
   "cell_type": "code",
   "execution_count": null,
   "metadata": {
    "collapsed": true
   },
   "outputs": [],
   "source": []
  }
 ],
 "metadata": {
  "kernelspec": {
   "display_name": "Python 3",
   "language": "python",
   "name": "python3"
  },
  "language_info": {
   "codemirror_mode": {
    "name": "ipython",
    "version": 3
   },
   "file_extension": ".py",
   "mimetype": "text/x-python",
   "name": "python",
   "nbconvert_exporter": "python",
   "pygments_lexer": "ipython3",
   "version": "3.6.2"
  }
 },
 "nbformat": 4,
 "nbformat_minor": 2
}
