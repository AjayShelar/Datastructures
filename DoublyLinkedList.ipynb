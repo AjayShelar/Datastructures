{
 "cells": [
  {
   "cell_type": "code",
   "execution_count": 3,
   "metadata": {},
   "outputs": [
    {
     "name": "stdout",
     "output_type": "stream",
     "text": [
      "Show list data:\n",
      "5\n",
      "6\n",
      "5\n",
      "6\n",
      "50\n",
      "6\n",
      "50\n",
      "30\n",
      "50\n",
      "30\n",
      "**************************************************\n",
      "Show list data:\n",
      "6\n",
      "30\n",
      "6\n",
      "30\n",
      "**************************************************\n"
     ]
    }
   ],
   "source": [
    "class Node(object):\n",
    " \n",
    "    def __init__(self, data, prev, next):\n",
    "        self.data = data\n",
    "        self.prev = prev\n",
    "        self.next = next\n",
    " \n",
    " \n",
    "class DoubleList(object):\n",
    " \n",
    "    head = None\n",
    "    tail = None\n",
    " \n",
    "    def append(self, data):\n",
    "        new_node = Node(data, None, None)\n",
    "        if self.head is None:\n",
    "            self.head = self.tail = new_node\n",
    "        else:\n",
    "            new_node.prev = self.tail\n",
    "            new_node.next = None\n",
    "            self.tail.next = new_node\n",
    "            self.tail = new_node\n",
    " \n",
    "    def remove(self, node_value):\n",
    "        current_node = self.head\n",
    " \n",
    "        while current_node is not None:\n",
    "            if current_node.data == node_value:\n",
    "                # if it's not the first element\n",
    "                if current_node.prev is not None:\n",
    "                    current_node.prev.next = current_node.next\n",
    "                    current_node.next.prev = current_node.prev\n",
    "                else:\n",
    "                    # otherwise we have no prev (it's None), head is the next one, and prev becomes None\n",
    "                    self.head = current_node.next\n",
    "                    current_node.next.prev = None\n",
    " \n",
    "            current_node = current_node.next\n",
    " \n",
    "    def show(self):\n",
    "        print (\"Show list data:\")\n",
    "        current_node = self.head\n",
    "        while current_node is not None:\n",
    "            print(current_node.prev.data) if hasattr(current_node.prev, \"data\") else None,\n",
    "            print(current_node.data),\n",
    "            print(current_node.next.data) if hasattr(current_node.next, \"data\") else None\n",
    " \n",
    "            current_node = current_node.next\n",
    "        print(\"*\"*50)\n",
    " \n",
    " \n",
    "d = DoubleList()\n",
    " \n",
    "d.append(5)\n",
    "d.append(6)\n",
    "d.append(50)\n",
    "d.append(30)\n",
    " \n",
    "d.show()\n",
    " \n",
    "d.remove(50)\n",
    "d.remove(5)\n",
    " \n",
    "d.show()"
   ]
  },
  {
   "cell_type": "code",
   "execution_count": null,
   "metadata": {},
   "outputs": [],
   "source": []
  }
 ],
 "metadata": {
  "kernelspec": {
   "display_name": "Python 3",
   "language": "python",
   "name": "python3"
  },
  "language_info": {
   "codemirror_mode": {
    "name": "ipython",
    "version": 3
   },
   "file_extension": ".py",
   "mimetype": "text/x-python",
   "name": "python",
   "nbconvert_exporter": "python",
   "pygments_lexer": "ipython3",
   "version": "3.6.3"
  }
 },
 "nbformat": 4,
 "nbformat_minor": 2
}
