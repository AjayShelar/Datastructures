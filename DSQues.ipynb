{
 "cells": [
  {
   "cell_type": "code",
   "execution_count": 2,
   "metadata": {},
   "outputs": [
    {
     "name": "stdout",
     "output_type": "stream",
     "text": [
      "3\n"
     ]
    }
   ],
   "source": [
    "\n",
    "\n",
    "\n",
    "\n",
    "#Question 1\n",
    "#Find a missing number in unsorted array of numbers between 1 to 10.\n",
    "\n",
    "#Code:\n",
    "\n",
    "\n",
    "#function to find missing number\n",
    "def MissingNo(list):\n",
    "    n = len(list)\n",
    "    total = (n+1)*(n+2)/2  #\n",
    "    sum_of_list = sum(list)\n",
    "    return total - sum_of_list\n",
    " \n",
    "# Driver program to test above function\n",
    "list = [1, 2, 4, 5, 6]\n",
    "missNO = int(MissingNo(list))\n",
    "print(missNO)\n",
    "\n"
   ]
  },
  {
   "cell_type": "code",
   "execution_count": 3,
   "metadata": {},
   "outputs": [
    {
     "name": "stdout",
     "output_type": "stream",
     "text": [
      "[1, 2, 3, 4, 6, 7, 8, 9, 10]\n",
      "5\n"
     ]
    }
   ],
   "source": [
    "#Question 2\n",
    "#Find a missing number in unsorted array of progressive series.\n",
    "\n",
    "#Code :\n",
    "#function to check if its aritmetic progressive already or not\n",
    "def is_arithmetic(l):\n",
    "    delta = l[1] - l[0]\n",
    "    for index in range(len(l) - 1):\n",
    "        if not (l[index + 1] - l[index] == delta):\n",
    "             return False\n",
    "    return True\n",
    "\n",
    "\n",
    "\n",
    "\n",
    "\n",
    "def missing_term(l):\n",
    "\tif not (is_arithmetic(l)):\n",
    "\t\t#if its not arithmetic then term missing will be somewhere in a list\n",
    "\t\tdelta = int((l[-1] - l[0]) / (len(l)))\n",
    "\t\tfor index in range(len(l) - 1):\n",
    "\t\t\tif not (l[index + 1] - l[index] == delta):\n",
    "\t\t\t\tmissing = l[index] + delta\n",
    "\t\t\t\treturn missing\n",
    "\telse :\n",
    "\t\t#if its already in Arithmeic pogressive then definitely last term is missing\n",
    "\t\tmissing = (l[1]-l[0]) + l[-1] \n",
    "\t\tl.append(missing)\n",
    "\t\treturn missing\n",
    "\n",
    "    \n",
    "l = [4, 8, 6, 7, 3, 2, 1, 10, 9] \n",
    "\n",
    "l.sort() # sorting an unsorted list\n",
    "print(l)\n",
    "print(missing_term(l))\n",
    "\n"
   ]
  },
  {
   "cell_type": "code",
   "execution_count": 4,
   "metadata": {},
   "outputs": [
    {
     "name": "stdout",
     "output_type": "stream",
     "text": [
      " Dividing numbers in batch of 10 results into :\n",
      "[[3, 4, 6, 23, 14, 56, 8, 9, 10, 22], [34, 56, 7, 8, 1, 4, 2, 5, 8, 10]]\n",
      "sum of batch 1\n",
      "155\n",
      "sum of batch 2\n",
      "135\n",
      "sum of all batches 290\n"
     ]
    }
   ],
   "source": [
    "#Question 3\n",
    "#Run a loop on array of n numbers in batches of 10. Sum all the numbers in each batch and finally sum the output of each batch. \n",
    "\n",
    "\n",
    "#Code:\n",
    "\n",
    "#function to create batches of 10\n",
    "def chunkIt(seq):\n",
    "  avg =  10\n",
    "  out = []\n",
    "  last = 0.0\n",
    "\n",
    "  while last < len(seq):\n",
    "    out.append(seq[int(last):int(last + avg)]) #slicing upto 10 and appending\n",
    "    last += avg\n",
    "  \n",
    "\n",
    "  return out\n",
    "\n",
    "\n",
    "list = [3, 4, 6, 23, 14, 56, 8, 9, 10, 22, 34, 56, 7, 8, 1, 4, 2, 5, 8, 10] \n",
    "slicing = []\n",
    "slicing = chunkIt(list)\n",
    "print(\" Dividing numbers in batch of 10 results into :\")\n",
    "print(slicing)\n",
    "total = 0\n",
    "for i in range(len(slicing)):\n",
    "\tprint(\"sum of batch\", i+1)\n",
    "\tprint(sum(slicing[i]))\n",
    "\ttotal = total + sum(slicing[i])\n",
    "\n",
    "print(\"sum of all batches\", total)\n",
    "\n",
    "\n"
   ]
  }
 ],
 "metadata": {
  "kernelspec": {
   "display_name": "Python 3",
   "language": "python",
   "name": "python3"
  },
  "language_info": {
   "codemirror_mode": {
    "name": "ipython",
    "version": 3
   },
   "file_extension": ".py",
   "mimetype": "text/x-python",
   "name": "python",
   "nbconvert_exporter": "python",
   "pygments_lexer": "ipython3",
   "version": "3.6.2"
  }
 },
 "nbformat": 4,
 "nbformat_minor": 2
}
