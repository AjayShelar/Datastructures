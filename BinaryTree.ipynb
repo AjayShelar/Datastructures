{
 "cells": [
  {
   "cell_type": "code",
   "execution_count": 8,
   "metadata": {},
   "outputs": [
    {
     "name": "stdout",
     "output_type": "stream",
     "text": [
      "6\n",
      "5\n",
      "9\n",
      "1\n"
     ]
    }
   ],
   "source": [
    "class BinaryTree():\n",
    "\n",
    "    def __init__(self,rootid):\n",
    "        self.l = None\n",
    "        self.r = None\n",
    "        self.rootid = rootid\n",
    "\n",
    "    def getLeftChild(self):\n",
    "        return self.l\n",
    "    def getRightChild(self):\n",
    "        return self.r\n",
    "    def setNodeValue(self,value):\n",
    "        self.rootid = value\n",
    "    def getNodeValue(self):\n",
    "        return self.rootid\n",
    "\n",
    "    def insertRight(self,newNode):\n",
    "        if self.r == None:\n",
    "            self.r = BinaryTree(newNode)\n",
    "        else:\n",
    "            tree = BinaryTree(newNode)\n",
    "            tree.r = self.r\n",
    "            self.r = tree\n",
    "        \n",
    "    def insertLeft(self,newNode):\n",
    "        if self.l == None:\n",
    "            self.l = BinaryTree(newNode)\n",
    "        else:\n",
    "            tree = BinaryTree(newNode)\n",
    "            self.l = tree\n",
    "            tree.l = self.l\n",
    "\n",
    "\n",
    "def printTree(tree):\n",
    "        if tree != None:\n",
    "            printTree(tree.getLeftChild())\n",
    "            print(tree.getNodeValue())\n",
    "            printTree(tree.getRightChild())\n",
    "            \n",
    "\n",
    "\n",
    "# test tree\n",
    "\n",
    "def main():\n",
    "    myTree = BinaryTree(5)\n",
    "    myTree.insertLeft(6)\n",
    "    myTree.insertRight(1)\n",
    "    myTree.insertRight(9)\n",
    "    printTree(myTree)\n",
    "\n",
    "if __name__== '__main__':\n",
    "    main()"
   ]
  },
  {
   "cell_type": "code",
   "execution_count": 2,
   "metadata": {},
   "outputs": [
    {
     "data": {
      "text/plain": [
       "'e'"
      ]
     },
     "execution_count": 2,
     "metadata": {},
     "output_type": "execute_result"
    }
   ],
   "source": [
    "'e'"
   ]
  },
  {
   "cell_type": "code",
   "execution_count": null,
   "metadata": {},
   "outputs": [],
   "source": []
  }
 ],
 "metadata": {
  "kernelspec": {
   "display_name": "Python 3",
   "language": "python",
   "name": "python3"
  },
  "language_info": {
   "codemirror_mode": {
    "name": "ipython",
    "version": 3
   },
   "file_extension": ".py",
   "mimetype": "text/x-python",
   "name": "python",
   "nbconvert_exporter": "python",
   "pygments_lexer": "ipython3",
   "version": "3.6.3"
  }
 },
 "nbformat": 4,
 "nbformat_minor": 2
}
