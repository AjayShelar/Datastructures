{
 "cells": [
  {
   "cell_type": "code",
   "execution_count": 12,
   "metadata": {},
   "outputs": [
    {
     "data": {
      "text/plain": [
       "There are 28 days in 02 2018\n"
      ]
     },
     "execution_count": 12,
     "metadata": {},
     "output_type": "execute_result"
    }
   ],
   "source": [
    "$date = '2018-02-23';\n",
    "$year = explode('-',$date)[0];\n",
    "$month =explode('-',$date)[1];\n",
    "$d=cal_days_in_month(CAL_GREGORIAN,$month,$year);\n",
    "echo \"There are $d days in $month $year\";"
   ]
  },
  {
   "cell_type": "code",
   "execution_count": null,
   "metadata": {},
   "outputs": [],
   "source": []
  }
 ],
 "metadata": {
  "kernelspec": {
   "display_name": "PHP",
   "language": "php",
   "name": "jupyter-php"
  },
  "language_info": {
   "file_extension": ".php",
   "mimetype": "text/x-php",
   "name": "PHP",
   "pygments_lexer": "PHP",
   "version": "7.0.22-0ubuntu0.16.04.1"
  }
 },
 "nbformat": 4,
 "nbformat_minor": 2
}
